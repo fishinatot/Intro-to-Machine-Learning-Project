{
 "cells": [
  {
   "cell_type": "markdown",
   "id": "642a362a",
   "metadata": {},
   "source": [
    "# Project description"
   ]
  },
  {
   "cell_type": "markdown",
   "id": "5cd18201",
   "metadata": {},
   "source": [
    "Mobile carrier Megaline has found out that many of their subscribers use legacy plans. They want to develop a model that would analyze subscribers' behavior and recommend one of Megaline's newer plans: Smart or Ultra.\n",
    "\n",
    "\n",
    "You have access to behavior data about subscribers who have already switched to the new plans (from the project for the Statistical Data Analysis course). For this classification task, you need to develop a model that will pick the right plan. Since you’ve already performed the data preprocessing step, you can move straight to creating the model.\n",
    "\n",
    "\n",
    "Develop a model with the highest possible accuracy. In this project, the threshold for accuracy is 0.75. Check the accuracy using the test dataset. "
   ]
  },
  {
   "cell_type": "markdown",
   "id": "2f92eb47",
   "metadata": {},
   "source": [
    "importing some libraries and looking through the data:"
   ]
  },
  {
   "cell_type": "code",
   "execution_count": 1,
   "id": "e7dae99c",
   "metadata": {},
   "outputs": [],
   "source": [
    "import pandas as pd\n",
    "import numpy as np\n",
    "from sklearn.tree import DecisionTreeClassifier\n",
    "from sklearn.metrics import accuracy_score\n",
    "from sklearn.model_selection import train_test_split\n",
    "from sklearn.ensemble import RandomForestClassifier\n",
    "from sklearn.linear_model import LogisticRegression\n",
    "#from sklearn.metrics import mean_squared_error"
   ]
  },
  {
   "cell_type": "code",
   "execution_count": 5,
   "id": "43c3c302",
   "metadata": {},
   "outputs": [
    {
     "data": {
      "text/html": [
       "<div>\n",
       "<style scoped>\n",
       "    .dataframe tbody tr th:only-of-type {\n",
       "        vertical-align: middle;\n",
       "    }\n",
       "\n",
       "    .dataframe tbody tr th {\n",
       "        vertical-align: top;\n",
       "    }\n",
       "\n",
       "    .dataframe thead th {\n",
       "        text-align: right;\n",
       "    }\n",
       "</style>\n",
       "<table border=\"1\" class=\"dataframe\">\n",
       "  <thead>\n",
       "    <tr style=\"text-align: right;\">\n",
       "      <th></th>\n",
       "      <th>calls</th>\n",
       "      <th>minutes</th>\n",
       "      <th>messages</th>\n",
       "      <th>mb_used</th>\n",
       "      <th>is_ultra</th>\n",
       "    </tr>\n",
       "  </thead>\n",
       "  <tbody>\n",
       "    <tr>\n",
       "      <th>2828</th>\n",
       "      <td>67.0</td>\n",
       "      <td>433.41</td>\n",
       "      <td>80.0</td>\n",
       "      <td>15662.73</td>\n",
       "      <td>0</td>\n",
       "    </tr>\n",
       "    <tr>\n",
       "      <th>873</th>\n",
       "      <td>71.0</td>\n",
       "      <td>556.84</td>\n",
       "      <td>71.0</td>\n",
       "      <td>19869.21</td>\n",
       "      <td>0</td>\n",
       "    </tr>\n",
       "    <tr>\n",
       "      <th>2940</th>\n",
       "      <td>66.0</td>\n",
       "      <td>430.35</td>\n",
       "      <td>24.0</td>\n",
       "      <td>19005.98</td>\n",
       "      <td>0</td>\n",
       "    </tr>\n",
       "    <tr>\n",
       "      <th>2731</th>\n",
       "      <td>70.0</td>\n",
       "      <td>414.64</td>\n",
       "      <td>0.0</td>\n",
       "      <td>21102.90</td>\n",
       "      <td>0</td>\n",
       "    </tr>\n",
       "    <tr>\n",
       "      <th>55</th>\n",
       "      <td>13.0</td>\n",
       "      <td>106.03</td>\n",
       "      <td>16.0</td>\n",
       "      <td>37328.45</td>\n",
       "      <td>1</td>\n",
       "    </tr>\n",
       "    <tr>\n",
       "      <th>1597</th>\n",
       "      <td>92.0</td>\n",
       "      <td>719.71</td>\n",
       "      <td>66.0</td>\n",
       "      <td>23827.53</td>\n",
       "      <td>0</td>\n",
       "    </tr>\n",
       "    <tr>\n",
       "      <th>1014</th>\n",
       "      <td>96.0</td>\n",
       "      <td>655.52</td>\n",
       "      <td>2.0</td>\n",
       "      <td>20432.78</td>\n",
       "      <td>0</td>\n",
       "    </tr>\n",
       "    <tr>\n",
       "      <th>846</th>\n",
       "      <td>114.0</td>\n",
       "      <td>734.12</td>\n",
       "      <td>134.0</td>\n",
       "      <td>25969.80</td>\n",
       "      <td>0</td>\n",
       "    </tr>\n",
       "    <tr>\n",
       "      <th>350</th>\n",
       "      <td>65.0</td>\n",
       "      <td>423.06</td>\n",
       "      <td>40.0</td>\n",
       "      <td>18625.97</td>\n",
       "      <td>0</td>\n",
       "    </tr>\n",
       "    <tr>\n",
       "      <th>466</th>\n",
       "      <td>71.0</td>\n",
       "      <td>408.79</td>\n",
       "      <td>70.0</td>\n",
       "      <td>22576.01</td>\n",
       "      <td>0</td>\n",
       "    </tr>\n",
       "  </tbody>\n",
       "</table>\n",
       "</div>"
      ],
      "text/plain": [
       "      calls  minutes  messages   mb_used  is_ultra\n",
       "2828   67.0   433.41      80.0  15662.73         0\n",
       "873    71.0   556.84      71.0  19869.21         0\n",
       "2940   66.0   430.35      24.0  19005.98         0\n",
       "2731   70.0   414.64       0.0  21102.90         0\n",
       "55     13.0   106.03      16.0  37328.45         1\n",
       "1597   92.0   719.71      66.0  23827.53         0\n",
       "1014   96.0   655.52       2.0  20432.78         0\n",
       "846   114.0   734.12     134.0  25969.80         0\n",
       "350    65.0   423.06      40.0  18625.97         0\n",
       "466    71.0   408.79      70.0  22576.01         0"
      ]
     },
     "execution_count": 5,
     "metadata": {},
     "output_type": "execute_result"
    }
   ],
   "source": [
    "try:\n",
    "    data = pd.read_csv('C:\\\\Users\\\\aviv\\\\Downloads\\\\users_behavior.csv')\n",
    "\n",
    "except:\n",
    "    data = pd.read_csv('/datasets/users_behavior.csv')\\\n",
    "    \n",
    "data.sample(10)"
   ]
  },
  {
   "cell_type": "code",
   "execution_count": 6,
   "id": "2af6bbcd",
   "metadata": {},
   "outputs": [
    {
     "data": {
      "text/html": [
       "<div>\n",
       "<style scoped>\n",
       "    .dataframe tbody tr th:only-of-type {\n",
       "        vertical-align: middle;\n",
       "    }\n",
       "\n",
       "    .dataframe tbody tr th {\n",
       "        vertical-align: top;\n",
       "    }\n",
       "\n",
       "    .dataframe thead th {\n",
       "        text-align: right;\n",
       "    }\n",
       "</style>\n",
       "<table border=\"1\" class=\"dataframe\">\n",
       "  <thead>\n",
       "    <tr style=\"text-align: right;\">\n",
       "      <th></th>\n",
       "      <th>calls</th>\n",
       "      <th>minutes</th>\n",
       "      <th>messages</th>\n",
       "      <th>mb_used</th>\n",
       "      <th>is_ultra</th>\n",
       "    </tr>\n",
       "  </thead>\n",
       "  <tbody>\n",
       "    <tr>\n",
       "      <th>count</th>\n",
       "      <td>3214.000000</td>\n",
       "      <td>3214.000000</td>\n",
       "      <td>3214.000000</td>\n",
       "      <td>3214.000000</td>\n",
       "      <td>3214.000000</td>\n",
       "    </tr>\n",
       "    <tr>\n",
       "      <th>mean</th>\n",
       "      <td>63.038892</td>\n",
       "      <td>438.208787</td>\n",
       "      <td>38.281269</td>\n",
       "      <td>17207.673836</td>\n",
       "      <td>0.306472</td>\n",
       "    </tr>\n",
       "    <tr>\n",
       "      <th>std</th>\n",
       "      <td>33.236368</td>\n",
       "      <td>234.569872</td>\n",
       "      <td>36.148326</td>\n",
       "      <td>7570.968246</td>\n",
       "      <td>0.461100</td>\n",
       "    </tr>\n",
       "    <tr>\n",
       "      <th>min</th>\n",
       "      <td>0.000000</td>\n",
       "      <td>0.000000</td>\n",
       "      <td>0.000000</td>\n",
       "      <td>0.000000</td>\n",
       "      <td>0.000000</td>\n",
       "    </tr>\n",
       "    <tr>\n",
       "      <th>25%</th>\n",
       "      <td>40.000000</td>\n",
       "      <td>274.575000</td>\n",
       "      <td>9.000000</td>\n",
       "      <td>12491.902500</td>\n",
       "      <td>0.000000</td>\n",
       "    </tr>\n",
       "    <tr>\n",
       "      <th>50%</th>\n",
       "      <td>62.000000</td>\n",
       "      <td>430.600000</td>\n",
       "      <td>30.000000</td>\n",
       "      <td>16943.235000</td>\n",
       "      <td>0.000000</td>\n",
       "    </tr>\n",
       "    <tr>\n",
       "      <th>75%</th>\n",
       "      <td>82.000000</td>\n",
       "      <td>571.927500</td>\n",
       "      <td>57.000000</td>\n",
       "      <td>21424.700000</td>\n",
       "      <td>1.000000</td>\n",
       "    </tr>\n",
       "    <tr>\n",
       "      <th>max</th>\n",
       "      <td>244.000000</td>\n",
       "      <td>1632.060000</td>\n",
       "      <td>224.000000</td>\n",
       "      <td>49745.730000</td>\n",
       "      <td>1.000000</td>\n",
       "    </tr>\n",
       "  </tbody>\n",
       "</table>\n",
       "</div>"
      ],
      "text/plain": [
       "             calls      minutes     messages       mb_used     is_ultra\n",
       "count  3214.000000  3214.000000  3214.000000   3214.000000  3214.000000\n",
       "mean     63.038892   438.208787    38.281269  17207.673836     0.306472\n",
       "std      33.236368   234.569872    36.148326   7570.968246     0.461100\n",
       "min       0.000000     0.000000     0.000000      0.000000     0.000000\n",
       "25%      40.000000   274.575000     9.000000  12491.902500     0.000000\n",
       "50%      62.000000   430.600000    30.000000  16943.235000     0.000000\n",
       "75%      82.000000   571.927500    57.000000  21424.700000     1.000000\n",
       "max     244.000000  1632.060000   224.000000  49745.730000     1.000000"
      ]
     },
     "execution_count": 6,
     "metadata": {},
     "output_type": "execute_result"
    }
   ],
   "source": [
    "data.describe()"
   ]
  },
  {
   "cell_type": "code",
   "execution_count": 7,
   "id": "8192fad9",
   "metadata": {},
   "outputs": [
    {
     "name": "stdout",
     "output_type": "stream",
     "text": [
      "<class 'pandas.core.frame.DataFrame'>\n",
      "RangeIndex: 3214 entries, 0 to 3213\n",
      "Data columns (total 5 columns):\n",
      " #   Column    Non-Null Count  Dtype  \n",
      "---  ------    --------------  -----  \n",
      " 0   calls     3214 non-null   float64\n",
      " 1   minutes   3214 non-null   float64\n",
      " 2   messages  3214 non-null   float64\n",
      " 3   mb_used   3214 non-null   float64\n",
      " 4   is_ultra  3214 non-null   int64  \n",
      "dtypes: float64(4), int64(1)\n",
      "memory usage: 125.7 KB\n"
     ]
    }
   ],
   "source": [
    "data.info()"
   ]
  },
  {
   "cell_type": "markdown",
   "id": "4cfc3c30",
   "metadata": {},
   "source": [
    "<div class=\"alert alert-success\">\n",
    "<b>Reviewer's comment</b>\n",
    "\n",
    "The data was loaded and briefly inspected!\n",
    "\n",
    "</div>"
   ]
  },
  {
   "cell_type": "markdown",
   "id": "d29b8258",
   "metadata": {},
   "source": [
    "# Splitting the source data to training, validation and test sets"
   ]
  },
  {
   "cell_type": "markdown",
   "id": "a62f0a61",
   "metadata": {},
   "source": [
    "i split the data first into features and target\n",
    "\n",
    "then split into training and validation sets, 6:4\n",
    "then split the validation set into validation and test set, for a final ratio of 6:2:2"
   ]
  },
  {
   "cell_type": "code",
   "execution_count": 8,
   "id": "406984fa",
   "metadata": {},
   "outputs": [],
   "source": [
    "features = data.drop(['is_ultra'], axis=1)\n",
    "target = data['is_ultra']\n"
   ]
  },
  {
   "cell_type": "code",
   "execution_count": 9,
   "id": "ecca62ad",
   "metadata": {},
   "outputs": [],
   "source": [
    "features_train, features_valid, target_train, target_valid = train_test_split(\n",
    "    features, target, test_size=0.4, random_state=33)\n",
    "features_valid, features_test, target_valid, target_test = train_test_split(features_valid, target_valid, test_size=0.5,\n",
    "                                                                           random_state=33)"
   ]
  },
  {
   "cell_type": "code",
   "execution_count": 62,
   "id": "c5d7d7f8",
   "metadata": {},
   "outputs": [
    {
     "name": "stdout",
     "output_type": "stream",
     "text": [
      "<class 'pandas.core.frame.DataFrame'>\n",
      "Int64Index: 643 entries, 2185 to 1108\n",
      "Data columns (total 4 columns):\n",
      " #   Column    Non-Null Count  Dtype  \n",
      "---  ------    --------------  -----  \n",
      " 0   calls     643 non-null    float64\n",
      " 1   minutes   643 non-null    float64\n",
      " 2   messages  643 non-null    float64\n",
      " 3   mb_used   643 non-null    float64\n",
      "dtypes: float64(4)\n",
      "memory usage: 25.1 KB\n"
     ]
    }
   ],
   "source": [
    "\n",
    "features_valid.info()\n"
   ]
  },
  {
   "cell_type": "code",
   "execution_count": 63,
   "id": "60049f98",
   "metadata": {},
   "outputs": [
    {
     "name": "stdout",
     "output_type": "stream",
     "text": [
      "<class 'pandas.core.frame.DataFrame'>\n",
      "Int64Index: 1928 entries, 622 to 3092\n",
      "Data columns (total 4 columns):\n",
      " #   Column    Non-Null Count  Dtype  \n",
      "---  ------    --------------  -----  \n",
      " 0   calls     1928 non-null   float64\n",
      " 1   minutes   1928 non-null   float64\n",
      " 2   messages  1928 non-null   float64\n",
      " 3   mb_used   1928 non-null   float64\n",
      "dtypes: float64(4)\n",
      "memory usage: 75.3 KB\n"
     ]
    }
   ],
   "source": [
    "features_train.info()"
   ]
  },
  {
   "cell_type": "code",
   "execution_count": 65,
   "id": "d28d596e",
   "metadata": {},
   "outputs": [
    {
     "name": "stdout",
     "output_type": "stream",
     "text": [
      "<class 'pandas.core.frame.DataFrame'>\n",
      "Int64Index: 643 entries, 1724 to 2487\n",
      "Data columns (total 4 columns):\n",
      " #   Column    Non-Null Count  Dtype  \n",
      "---  ------    --------------  -----  \n",
      " 0   calls     643 non-null    float64\n",
      " 1   minutes   643 non-null    float64\n",
      " 2   messages  643 non-null    float64\n",
      " 3   mb_used   643 non-null    float64\n",
      "dtypes: float64(4)\n",
      "memory usage: 25.1 KB\n"
     ]
    }
   ],
   "source": [
    "features_test.info()"
   ]
  },
  {
   "cell_type": "markdown",
   "id": "e6e1de07",
   "metadata": {},
   "source": [
    "# Investigating the quality of different models by changing hyperparameters"
   ]
  },
  {
   "cell_type": "markdown",
   "id": "7b668bd2",
   "metadata": {},
   "source": [
    "briefly describe the findings"
   ]
  },
  {
   "cell_type": "markdown",
   "id": "64b2d549",
   "metadata": {},
   "source": [
    "let's train a decision tree classifier and toy a bit with its max_depth parameter"
   ]
  },
  {
   "cell_type": "code",
   "execution_count": 66,
   "id": "66b8ff60",
   "metadata": {},
   "outputs": [
    {
     "name": "stdout",
     "output_type": "stream",
     "text": [
      "Accuracy of the best model: 0.7916018662519441 depth of best model: 8\n"
     ]
    }
   ],
   "source": [
    "\n",
    "best_model = None\n",
    "best_result = 0\n",
    "best_depth = 0\n",
    "for depth in range(1, 10):\n",
    "    model = DecisionTreeClassifier(random_state=33, max_depth=depth) # create a model with the given depth\n",
    "    model.fit(features_train,target_train) # train the model\n",
    "    predictions = model.predict(features_valid) # get the model's predictions\n",
    "    result = model.score(features_valid, target_valid)\n",
    "   # result = accuracy_score(target_valid, predictions) # calculate the accuracy\n",
    "    if result > best_result:\n",
    "        best_model = model\n",
    "        best_result = result\n",
    "        best_depth = depth\n",
    "        \n",
    "print(\"Accuracy of the best model:\", best_result,\"depth of best model:\", best_depth)"
   ]
  },
  {
   "cell_type": "markdown",
   "id": "56455660",
   "metadata": {},
   "source": [
    "we see that we get the best accuracy score out of a max depth of 3, any other and we overfit/underfit the model.\n",
    "so if we were to choose DTC as our model, we'd use max_depth of 3"
   ]
  },
  {
   "cell_type": "markdown",
   "id": "9a362136",
   "metadata": {},
   "source": [
    "let's train a random forest classifier next"
   ]
  },
  {
   "cell_type": "code",
   "execution_count": 67,
   "id": "0de2987f",
   "metadata": {},
   "outputs": [
    {
     "name": "stdout",
     "output_type": "stream",
     "text": [
      "Accuracy of the best random forest classfier model on the validation set (n_estimators = 6): 0.7884914463452566\n"
     ]
    }
   ],
   "source": [
    "best_score = 0\n",
    "best_est = 0\n",
    "for est in range(1,11):\n",
    "    model = RandomForestClassifier(random_state=33, n_estimators = est)\n",
    "    model.fit(features_train, target_train)\n",
    "    score= model.score(features_valid, target_valid)\n",
    "    if score > best_score:\n",
    "        best_score = score\n",
    "        best_est = est\n",
    "print(\"Accuracy of the best random forest classfier model on the validation set (n_estimators = {}): {}\".format(best_est, best_score))"
   ]
  },
  {
   "cell_type": "markdown",
   "id": "5415ee17",
   "metadata": {},
   "source": [
    "now to try logistic regression model"
   ]
  },
  {
   "cell_type": "code",
   "execution_count": 68,
   "id": "c6a51e29",
   "metadata": {},
   "outputs": [
    {
     "data": {
      "text/plain": [
       "0.76049766718507"
      ]
     },
     "execution_count": 68,
     "metadata": {},
     "output_type": "execute_result"
    }
   ],
   "source": [
    "model = LogisticRegression(random_state=33)\n",
    "model.fit(features_train, target_train)\n",
    "model.score(features_valid, target_valid)"
   ]
  },
  {
   "cell_type": "markdown",
   "id": "5f88af8d",
   "metadata": {},
   "source": [
    "# Check the quality of the model using the test set."
   ]
  },
  {
   "cell_type": "code",
   "execution_count": 69,
   "id": "9212b91e",
   "metadata": {},
   "outputs": [
    {
     "data": {
      "text/plain": [
       "0.8040435458786936"
      ]
     },
     "execution_count": 69,
     "metadata": {},
     "output_type": "execute_result"
    }
   ],
   "source": [
    "features = data.drop(['is_ultra'], axis=1)\n",
    "target = data['is_ultra']\n",
    "final_model = DecisionTreeClassifier(random_state=33, max_depth=3)\n",
    "final_model.fit(features_train, target_train)\n",
    "final_model.score(features_test, target_test)"
   ]
  },
  {
   "cell_type": "markdown",
   "id": "9a6f08c9",
   "metadata": {},
   "source": [
    "# Sanity check"
   ]
  },
  {
   "cell_type": "markdown",
   "id": "1b8caed7",
   "metadata": {},
   "source": [
    "To sanity check the model in classification problems, we need to compare it with chance.\n",
    "\n",
    "Let's assume we have a model that assigns \"0\" or \"1\" randomly with a 50/50 chance. What is the accuracy of the model?\n",
    "\n",
    "The model's answers are not linked to correct answers, so the probability of guessing “1” is 50% (the same for “0“), meaning the accuracy is 0.5.\n",
    "\n",
    "Our model's accuracy score tested about 0.8 which is significantly better than chance's 0.5.\n",
    "\n",
    "we could also compare our model to a constant model which always predicts the majority class 0 (whose share is 0.69) we'll get accuracy equal to that share and the model also exceeds that.\n"
   ]
  }
 ],
 "metadata": {
  "ExecuteTimeLog": [
   {
    "duration": 902,
    "start_time": "2022-05-25T12:11:26.162Z"
   },
   {
    "duration": 161,
    "start_time": "2022-05-25T12:11:27.065Z"
   },
   {
    "duration": 0,
    "start_time": "2022-05-25T12:11:27.228Z"
   },
   {
    "duration": 0,
    "start_time": "2022-05-25T12:11:27.229Z"
   },
   {
    "duration": 8,
    "start_time": "2022-05-25T12:11:28.464Z"
   },
   {
    "duration": 10,
    "start_time": "2022-05-25T12:11:28.598Z"
   },
   {
    "duration": 138,
    "start_time": "2022-05-25T12:11:34.776Z"
   },
   {
    "duration": 30,
    "start_time": "2022-05-25T12:11:35.594Z"
   },
   {
    "duration": 14,
    "start_time": "2022-05-25T12:11:36.182Z"
   },
   {
    "duration": 5,
    "start_time": "2022-05-25T12:11:37.471Z"
   },
   {
    "duration": 7,
    "start_time": "2022-05-25T12:11:37.698Z"
   },
   {
    "duration": 10,
    "start_time": "2022-05-25T12:12:41.012Z"
   },
   {
    "duration": 10,
    "start_time": "2022-05-25T12:12:56.234Z"
   },
   {
    "duration": 22,
    "start_time": "2022-05-25T12:13:08.317Z"
   },
   {
    "duration": 6,
    "start_time": "2022-05-25T12:13:24.510Z"
   },
   {
    "duration": 6,
    "start_time": "2022-05-25T12:13:47.139Z"
   },
   {
    "duration": 8,
    "start_time": "2022-05-25T12:13:52.206Z"
   },
   {
    "duration": 7,
    "start_time": "2022-05-25T12:13:54.829Z"
   },
   {
    "duration": 7,
    "start_time": "2022-05-25T12:14:00.193Z"
   },
   {
    "duration": 7,
    "start_time": "2022-05-25T12:14:02.034Z"
   },
   {
    "duration": 7,
    "start_time": "2022-05-25T12:14:03.022Z"
   },
   {
    "duration": 7,
    "start_time": "2022-05-25T12:14:03.766Z"
   },
   {
    "duration": 8,
    "start_time": "2022-05-25T12:14:04.404Z"
   },
   {
    "duration": 8,
    "start_time": "2022-05-25T12:14:05.039Z"
   },
   {
    "duration": 8,
    "start_time": "2022-05-25T12:14:05.688Z"
   },
   {
    "duration": 8,
    "start_time": "2022-05-25T12:14:06.333Z"
   },
   {
    "duration": 7,
    "start_time": "2022-05-25T12:14:07.014Z"
   },
   {
    "duration": 6,
    "start_time": "2022-05-25T12:14:07.623Z"
   },
   {
    "duration": 7,
    "start_time": "2022-05-25T12:14:08.275Z"
   },
   {
    "duration": 6,
    "start_time": "2022-05-25T12:14:08.931Z"
   },
   {
    "duration": 7,
    "start_time": "2022-05-25T12:14:09.615Z"
   },
   {
    "duration": 7,
    "start_time": "2022-05-25T12:14:10.278Z"
   },
   {
    "duration": 7,
    "start_time": "2022-05-25T12:14:10.931Z"
   }
  ],
  "kernelspec": {
   "display_name": "Python 3 (ipykernel)",
   "language": "python",
   "name": "python3"
  },
  "language_info": {
   "codemirror_mode": {
    "name": "ipython",
    "version": 3
   },
   "file_extension": ".py",
   "mimetype": "text/x-python",
   "name": "python",
   "nbconvert_exporter": "python",
   "pygments_lexer": "ipython3",
   "version": "3.8.8"
  },
  "toc": {
   "base_numbering": 1,
   "nav_menu": {},
   "number_sections": true,
   "sideBar": true,
   "skip_h1_title": false,
   "title_cell": "Table of Contents",
   "title_sidebar": "Contents",
   "toc_cell": false,
   "toc_position": {},
   "toc_section_display": true,
   "toc_window_display": false
  }
 },
 "nbformat": 4,
 "nbformat_minor": 5
}
